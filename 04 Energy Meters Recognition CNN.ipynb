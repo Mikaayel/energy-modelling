{
 "cells": [
  {
   "cell_type": "markdown",
   "metadata": {},
   "source": [
    "Augmentor is being used to supplement the training data with variations of the images."
   ]
  },
  {
   "cell_type": "code",
   "execution_count": 1,
   "metadata": {},
   "outputs": [],
   "source": [
    "# import data set, standardise and create new samples\n",
    "# un-comment this block to create data set samples\n",
    "\n",
    "# import sys\n",
    "# import Augmentor\n",
    "# folder_path=\"./data/raw-data-energy-meters/no-meter-readings-raw/\"\n",
    "# p = Augmentor.Pipeline(source_directory=folder_path, save_format=\"JPEG\")\n",
    "# p.flip_left_right(0.5)\n",
    "# p.black_and_white(0.1)\n",
    "# p.rotate(0.3, 10, 10)\n",
    "# p.skew(0.4, 0.5)\n",
    "# p.skew_tilt(0.6, 0.8)\n",
    "# p.skew_left_right(0.5, magnitude=0.8)\n",
    "# p.sample(1000)"
   ]
  },
  {
   "cell_type": "code",
   "execution_count": 2,
   "metadata": {},
   "outputs": [
    {
     "name": "stderr",
     "output_type": "stream",
     "text": [
      "Using TensorFlow backend.\n"
     ]
    }
   ],
   "source": [
    "import numpy as np\n",
    "import matplotlib.pyplot as plt\n",
    "\n",
    "import cv2\n",
    "import pickle\n",
    "import random\n",
    "import os\n",
    "import tensorflow as tf\n",
    "from keras.models import Sequential\n",
    "from keras.layers import Dense, Dropout, Activation, Flatten, Conv2D, MaxPool2D\n",
    "from keras.callbacks import TensorBoard\n",
    "import time"
   ]
  },
  {
   "cell_type": "markdown",
   "metadata": {},
   "source": [
    "Set all variations of the model"
   ]
  },
  {
   "cell_type": "code",
   "execution_count": 3,
   "metadata": {},
   "outputs": [],
   "source": [
    "dense_layers = [0, 1, 2]\n",
    "layer_sizes = [32, 64, 128]\n",
    "conv_layers = [1, 2, 3]"
   ]
  },
  {
   "cell_type": "code",
   "execution_count": 4,
   "metadata": {},
   "outputs": [],
   "source": [
    "DATADIR = './data/raw-data-energy-meters'\n",
    "CATEGORIES = ['no-meter-readings', 'meter-readings']"
   ]
  },
  {
   "cell_type": "code",
   "execution_count": 7,
   "metadata": {},
   "outputs": [
    {
     "data": {
      "image/png": "[encoded data removed]",
      "text/plain": [
       "<Figure size 432x288 with 1 Axes>"
      ]
     },
     "metadata": {
      "needs_background": "light"
     },
     "output_type": "display_data"
    }
   ],
   "source": [
    "IMG_SIZE = 100\n",
    "new_array = cv2.resize(img_array, (IMG_SIZE, IMG_SIZE))\n",
    "plt.imshow(new_array, cmap='gray')\n",
    "plt.show()"
   ]
  },
  {
   "cell_type": "code",
   "execution_count": 8,
   "metadata": {},
   "outputs": [],
   "source": [
    "training_data = []\n",
    "\n",
    "def create_training_data():\n",
    "    for category in CATEGORIES:\n",
    "        path = os.path.join(DATADIR, category)\n",
    "        class_num = CATEGORIES.index(category)\n",
    "        for img in os.listdir(path):\n",
    "            try:\n",
    "                img_array = cv2.imread(os.path.join(path, img), cv2.IMREAD_GRAYSCALE)\n",
    "                new_array = cv2.resize(img_array, (IMG_SIZE, IMG_SIZE))\n",
    "                training_data.append([new_array, class_num])\n",
    "            except Exception as e:\n",
    "                pass\n",
    "\n",
    "create_training_data()"
   ]
  },
  {
   "cell_type": "code",
   "execution_count": 10,
   "metadata": {},
   "outputs": [],
   "source": [
    "random.shuffle(training_data)"
   ]
  },
  {
   "cell_type": "code",
   "execution_count": 11,
   "metadata": {},
   "outputs": [
    {
     "name": "stdout",
     "output_type": "stream",
     "text": [
      "1\n",
      "1\n",
      "0\n",
      "1\n",
      "1\n",
      "0\n",
      "0\n",
      "0\n",
      "0\n",
      "1\n"
     ]
    }
   ],
   "source": [
    "for sample in training_data[:10]:\n",
    "    print(sample[1])"
   ]
  },
  {
   "cell_type": "code",
   "execution_count": 12,
   "metadata": {},
   "outputs": [],
   "source": [
    "X = []\n",
    "y = []"
   ]
  },
  {
   "cell_type": "code",
   "execution_count": 13,
   "metadata": {},
   "outputs": [],
   "source": [
    "for features, label in training_data:\n",
    "    X.append(features)\n",
    "    y.append(label)\n",
    "X = np.array(X).reshape(-1, IMG_SIZE, IMG_SIZE, 1)"
   ]
  },
  {
   "cell_type": "code",
   "execution_count": 14,
   "metadata": {},
   "outputs": [],
   "source": [
    "# save data manipulation\n",
    "\n",
    "pickle_out = open(\"04_energy_meters_recognition_cnn/X.pickle\", \"wb\")\n",
    "pickle.dump(X, pickle_out)\n",
    "pickle_out.close()\n",
    "\n",
    "pickle_out = open(\"04_energy_meters_recognition_cnn/y.pickle\", \"wb\")\n",
    "pickle.dump(y, pickle_out)\n",
    "pickle_out.close()"
   ]
  },
  {
   "cell_type": "code",
   "execution_count": 15,
   "metadata": {},
   "outputs": [],
   "source": [
    "pickle_in = open(\"04_energy_meters_recognition_cnn/X.pickle\", \"rb\")\n",
    "X = pickle.load(pickle_in)"
   ]
  },
  {
   "cell_type": "code",
   "execution_count": 16,
   "metadata": {},
   "outputs": [],
   "source": [
    "pickle_in = open(\"04_energy_meters_recognition_cnn/y.pickle\", \"rb\")\n",
    "y = pickle.load(pickle_in)"
   ]
  },
  {
   "cell_type": "code",
   "execution_count": 17,
   "metadata": {},
   "outputs": [],
   "source": [
    "X = X/255"
   ]
  },
  {
   "cell_type": "code",
   "execution_count": 18,
   "metadata": {},
   "outputs": [
    {
     "name": "stdout",
     "output_type": "stream",
     "text": [
      "Train on 1800 samples, validate on 200 samples\n",
      "Epoch 1/20\n",
      "1800/1800 [==============================] - 9s 5ms/step - loss: 0.6331 - acc: 0.6506 - val_loss: 0.5664 - val_acc: 0.7250\n",
      "Epoch 2/20\n",
      "1800/1800 [==============================] - 9s 5ms/step - loss: 0.5088 - acc: 0.7694 - val_loss: 0.5614 - val_acc: 0.7150\n",
      "Epoch 3/20\n",
      "1800/1800 [==============================] - 9s 5ms/step - loss: 0.4626 - acc: 0.7856 - val_loss: 0.5262 - val_acc: 0.7650\n",
      "Epoch 4/20\n",
      "1800/1800 [==============================] - 9s 5ms/step - loss: 0.4508 - acc: 0.7983 - val_loss: 0.5284 - val_acc: 0.7750\n",
      "Epoch 5/20\n",
      "1800/1800 [==============================] - 9s 5ms/step - loss: 0.3823 - acc: 0.8294 - val_loss: 0.5202 - val_acc: 0.7800\n",
      "Epoch 6/20\n",
      "1800/1800 [==============================] - 9s 5ms/step - loss: 0.3577 - acc: 0.8600 - val_loss: 0.5287 - val_acc: 0.7800\n",
      "Epoch 7/20\n",
      "1800/1800 [==============================] - 9s 5ms/step - loss: 0.2926 - acc: 0.8828 - val_loss: 0.5199 - val_acc: 0.8000\n",
      "Epoch 8/20\n",
      "1800/1800 [==============================] - 9s 5ms/step - loss: 0.2275 - acc: 0.9194 - val_loss: 0.5167 - val_acc: 0.7700\n",
      "Epoch 9/20\n",
      "1800/1800 [==============================] - 9s 5ms/step - loss: 0.1958 - acc: 0.9300 - val_loss: 0.6718 - val_acc: 0.7750\n",
      "Epoch 10/20\n",
      "1800/1800 [==============================] - 9s 5ms/step - loss: 0.1757 - acc: 0.9406 - val_loss: 0.6188 - val_acc: 0.7600\n",
      "Epoch 11/20\n",
      "1800/1800 [==============================] - 9s 5ms/step - loss: 0.1445 - acc: 0.9511 - val_loss: 0.6195 - val_acc: 0.7900\n",
      "Epoch 12/20\n",
      "1800/1800 [==============================] - 9s 5ms/step - loss: 0.1014 - acc: 0.9694 - val_loss: 0.7141 - val_acc: 0.7600\n",
      "Epoch 13/20\n",
      "1800/1800 [==============================] - 9s 5ms/step - loss: 0.0605 - acc: 0.9861 - val_loss: 0.7310 - val_acc: 0.8200\n",
      "Epoch 14/20\n",
      "1800/1800 [==============================] - 9s 5ms/step - loss: 0.0410 - acc: 0.9944 - val_loss: 0.7620 - val_acc: 0.8150\n",
      "Epoch 15/20\n",
      "1800/1800 [==============================] - 9s 5ms/step - loss: 0.0373 - acc: 0.9944 - val_loss: 0.7522 - val_acc: 0.8200\n",
      "Epoch 16/20\n",
      "1800/1800 [==============================] - 9s 5ms/step - loss: 0.0222 - acc: 0.9978 - val_loss: 0.7975 - val_acc: 0.8300\n",
      "Epoch 17/20\n",
      "1800/1800 [==============================] - 9s 5ms/step - loss: 0.0250 - acc: 0.9939 - val_loss: 1.0814 - val_acc: 0.7950\n",
      "Epoch 18/20\n",
      "1800/1800 [==============================] - 9s 5ms/step - loss: 0.0503 - acc: 0.9850 - val_loss: 0.8872 - val_acc: 0.8100\n",
      "Epoch 19/20\n",
      "1800/1800 [==============================] - 9s 5ms/step - loss: 0.0812 - acc: 0.9739 - val_loss: 0.8033 - val_acc: 0.7900\n",
      "Epoch 20/20\n",
      "1800/1800 [==============================] - 9s 5ms/step - loss: 0.1615 - acc: 0.9433 - val_loss: 0.6410 - val_acc: 0.8200\n"
     ]
    }
   ],
   "source": [
    "for dense_layer in dense_layers:\n",
    "    for layer_size in layer_sizes:\n",
    "        for conv_layer in conv_layers:\n",
    "            NAME = \"{}-conv-{}-nodes-{}-dense-{}\".format(conv_layer, layer_size, dense_layer, int(time.time()))\n",
    "            tensorboard = TensorBoard(log_dir='logs/{}'.format(NAME))\n",
    "            \n",
    "            model = Sequential()\n",
    "\n",
    "            model.add(Conv2D(layer_size, (3, 3), input_shape = X.shape[1:]))\n",
    "            model.add(Activation(\"relu\"))\n",
    "            model.add(MaxPool2D(pool_size=(2,2)))\n",
    "            \n",
    "            for l in range(conv_layer-1):\n",
    "                model.add(Conv2D(layer_size, (3, 3), input_shape = X.shape[1:]))\n",
    "                model.add(Activation(\"relu\"))\n",
    "                model.add(MaxPool2D(pool_size=(2,2)))\n",
    "\n",
    "            model.add(Flatten())\n",
    "\n",
    "            for l in range(dense_layer):\n",
    "                model.add(Dense(layer_size))\n",
    "                model.add(Activation(\"relu\"))\n",
    "                        \n",
    "            model.add(Dense(1))\n",
    "            model.add(Activation('sigmoid'))\n",
    "\n",
    "            model.compile(loss=\"binary_crossentropy\", optimizer=\"adam\", metrics=['accuracy'])\n",
    "\n",
    "\n",
    "            model.fit(X, y, batch_size=32, epochs=20, validation_split=0.1, callbacks=[tensorboard])\n",
    "\n",
    "model.save('04_energy_meters_recognition_cnn/model_energy_meter.model')"
   ]
  },
  {
   "cell_type": "markdown",
   "metadata": {},
   "source": [
    "This method will convert images to be used for predictions into the correct format"
   ]
  },
  {
   "cell_type": "code",
   "execution_count": 19,
   "metadata": {},
   "outputs": [],
   "source": [
    "def prepare(filepath):\n",
    "    img_array = cv2.imread(filepath, cv2.IMREAD_GRAYSCALE)\n",
    "    new_array = cv2.resize(img_array, (IMG_SIZE, IMG_SIZE))\n",
    "    plt.imshow(new_array, cmap='gray')\n",
    "    return new_array.reshape(-1, IMG_SIZE, IMG_SIZE, 1)"
   ]
  },
  {
   "cell_type": "code",
   "execution_count": 20,
   "metadata": {},
   "outputs": [],
   "source": [
    "model = tf.keras.models.load_model(\"04_energy_meters_recognition_cnn/model_energy_meter.model\")"
   ]
  },
  {
   "cell_type": "markdown",
   "metadata": {},
   "source": [
    "The first first prediction is being made on an image of my own energy meter which was not part of the original data train or test sample."
   ]
  },
  {
   "cell_type": "code",
   "execution_count": 33,
   "metadata": {},
   "outputs": [
    {
     "data": {
      "image/png": "[encoded data removed]",
      "text/plain": [
       "<Figure size 432x288 with 1 Axes>"
      ]
     },
     "metadata": {
      "needs_background": "light"
     },
     "output_type": "display_data"
    }
   ],
   "source": [
    "prediction = model.predict([prepare('./img/meter-test-1.jpg')])"
   ]
  },
  {
   "cell_type": "code",
   "execution_count": 34,
   "metadata": {},
   "outputs": [
    {
     "name": "stdout",
     "output_type": "stream",
     "text": [
      "meter-readings\n"
     ]
    }
   ],
   "source": [
    "print(CATEGORIES[int(prediction[0][0])])"
   ]
  },
  {
   "cell_type": "markdown",
   "metadata": {},
   "source": [
    "This second prediction is being made on something I think might confuse the CNN as it contains numbers in digit form"
   ]
  },
  {
   "cell_type": "code",
   "execution_count": 36,
   "metadata": {},
   "outputs": [
    {
     "data": {
      "image/png": "[encoded data removed]",
      "text/plain": [
       "<Figure size 432x288 with 1 Axes>"
      ]
     },
     "metadata": {
      "needs_background": "light"
     },
     "output_type": "display_data"
    }
   ],
   "source": [
    "prediction = model.predict([prepare('./img/meter-test-2.jpg')])"
   ]
  },
  {
   "cell_type": "code",
   "execution_count": 37,
   "metadata": {},
   "outputs": [
    {
     "name": "stdout",
     "output_type": "stream",
     "text": [
      "no-meter-readings\n"
     ]
    }
   ],
   "source": [
    "print(CATEGORIES[int(prediction[0][0])])"
   ]
  }
 ],
 "metadata": {
  "kernelspec": {
   "display_name": "Python 3",
   "language": "python",
   "name": "python3"
  },
  "language_info": {
   "codemirror_mode": {
    "name": "ipython",
    "version": 3
   },
   "file_extension": ".py",
   "mimetype": "text/x-python",
   "name": "python",
   "nbconvert_exporter": "python",
   "pygments_lexer": "ipython3",
   "version": "3.6.7"
  }
 },
 "nbformat": 4,
 "nbformat_minor": 2
}
